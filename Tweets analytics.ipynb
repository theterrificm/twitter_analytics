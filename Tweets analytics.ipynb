{
 "cells": [
  {
   "cell_type": "code",
   "execution_count": 1,
   "id": "85409d27",
   "metadata": {},
   "outputs": [
    {
     "data": {
      "text/html": [
       "<div>\n",
       "<style scoped>\n",
       "    .dataframe tbody tr th:only-of-type {\n",
       "        vertical-align: middle;\n",
       "    }\n",
       "\n",
       "    .dataframe tbody tr th {\n",
       "        vertical-align: top;\n",
       "    }\n",
       "\n",
       "    .dataframe thead th {\n",
       "        text-align: right;\n",
       "    }\n",
       "</style>\n",
       "<table border=\"1\" class=\"dataframe\">\n",
       "  <thead>\n",
       "    <tr style=\"text-align: right;\">\n",
       "      <th></th>\n",
       "      <th>fav</th>\n",
       "      <th>rt_count</th>\n",
       "      <th>date</th>\n",
       "      <th>id</th>\n",
       "      <th>year</th>\n",
       "      <th>month</th>\n",
       "      <th>day</th>\n",
       "      <th>hour</th>\n",
       "      <th>day_week</th>\n",
       "      <th>day_name</th>\n",
       "    </tr>\n",
       "  </thead>\n",
       "  <tbody>\n",
       "    <tr>\n",
       "      <th>0</th>\n",
       "      <td>15</td>\n",
       "      <td>6</td>\n",
       "      <td>2023-03-04 08:51:15+00:00</td>\n",
       "      <td>1631940354109845504</td>\n",
       "      <td>2023</td>\n",
       "      <td>3</td>\n",
       "      <td>4</td>\n",
       "      <td>8</td>\n",
       "      <td>5</td>\n",
       "      <td>Saturday</td>\n",
       "    </tr>\n",
       "    <tr>\n",
       "      <th>1</th>\n",
       "      <td>2</td>\n",
       "      <td>0</td>\n",
       "      <td>2023-03-04 08:47:53+00:00</td>\n",
       "      <td>1631939507955146754</td>\n",
       "      <td>2023</td>\n",
       "      <td>3</td>\n",
       "      <td>4</td>\n",
       "      <td>8</td>\n",
       "      <td>5</td>\n",
       "      <td>Saturday</td>\n",
       "    </tr>\n",
       "    <tr>\n",
       "      <th>2</th>\n",
       "      <td>0</td>\n",
       "      <td>0</td>\n",
       "      <td>2023-03-03 20:31:24+00:00</td>\n",
       "      <td>1631754165897633796</td>\n",
       "      <td>2023</td>\n",
       "      <td>3</td>\n",
       "      <td>3</td>\n",
       "      <td>20</td>\n",
       "      <td>4</td>\n",
       "      <td>Friday</td>\n",
       "    </tr>\n",
       "    <tr>\n",
       "      <th>3</th>\n",
       "      <td>5</td>\n",
       "      <td>0</td>\n",
       "      <td>2023-03-03 19:06:07+00:00</td>\n",
       "      <td>1631732703430148129</td>\n",
       "      <td>2023</td>\n",
       "      <td>3</td>\n",
       "      <td>3</td>\n",
       "      <td>19</td>\n",
       "      <td>4</td>\n",
       "      <td>Friday</td>\n",
       "    </tr>\n",
       "    <tr>\n",
       "      <th>4</th>\n",
       "      <td>3</td>\n",
       "      <td>0</td>\n",
       "      <td>2023-03-03 19:04:57+00:00</td>\n",
       "      <td>1631732409199722497</td>\n",
       "      <td>2023</td>\n",
       "      <td>3</td>\n",
       "      <td>3</td>\n",
       "      <td>19</td>\n",
       "      <td>4</td>\n",
       "      <td>Friday</td>\n",
       "    </tr>\n",
       "  </tbody>\n",
       "</table>\n",
       "</div>"
      ],
      "text/plain": [
       "   fav  rt_count                       date                   id  year  month  \\\n",
       "0   15         6  2023-03-04 08:51:15+00:00  1631940354109845504  2023      3   \n",
       "1    2         0  2023-03-04 08:47:53+00:00  1631939507955146754  2023      3   \n",
       "2    0         0  2023-03-03 20:31:24+00:00  1631754165897633796  2023      3   \n",
       "3    5         0  2023-03-03 19:06:07+00:00  1631732703430148129  2023      3   \n",
       "4    3         0  2023-03-03 19:04:57+00:00  1631732409199722497  2023      3   \n",
       "\n",
       "   day  hour  day_week  day_name  \n",
       "0    4     8         5  Saturday  \n",
       "1    4     8         5  Saturday  \n",
       "2    3    20         4    Friday  \n",
       "3    3    19         4    Friday  \n",
       "4    3    19         4    Friday  "
      ]
     },
     "execution_count": 1,
     "metadata": {},
     "output_type": "execute_result"
    }
   ],
   "source": [
    "import pandas as pd\n",
    "import matplotlib.pyplot as plt\n",
    "import seaborn as sns\n",
    "\n",
    "file = pd.read_csv('./data/tweets_clean.csv', index_col= 0 )\n",
    "\n",
    "tweets_fav = file['fav']\n",
    "tweets_rt = file['rt_count']\n",
    "len(file)\n",
    "file.head()"
   ]
  },
  {
   "cell_type": "markdown",
   "id": "be082a6f",
   "metadata": {},
   "source": [
    "# My First Ever Tweet \n"
   ]
  },
  {
   "cell_type": "code",
   "execution_count": 2,
   "id": "04c778e5",
   "metadata": {},
   "outputs": [
    {
     "data": {
      "text/plain": [
       "'2016-04-09 13:44:50+00:00'"
      ]
     },
     "execution_count": 2,
     "metadata": {},
     "output_type": "execute_result"
    }
   ],
   "source": [
    "\n",
    "srt_by_date = file.sort_values(\"date\", ascending=True)\n",
    "srt_by_date.iloc[0].date"
   ]
  },
  {
   "cell_type": "markdown",
   "id": "a9185f89",
   "metadata": {},
   "source": [
    "# My top 10 most-liked tweets"
   ]
  },
  {
   "cell_type": "code",
   "execution_count": 3,
   "id": "549dc644",
   "metadata": {},
   "outputs": [
    {
     "ename": "ValueError",
     "evalue": "Cannot pass values for both `x` and `y`",
     "output_type": "error",
     "traceback": [
      "\u001b[1;31m---------------------------------------------------------------------------\u001b[0m",
      "\u001b[1;31mValueError\u001b[0m                                Traceback (most recent call last)",
      "\u001b[1;32m~\\AppData\\Local\\Temp\\ipykernel_11016\\818127756.py\u001b[0m in \u001b[0;36m<module>\u001b[1;34m\u001b[0m\n\u001b[0;32m      1\u001b[0m \u001b[0mnew_srt\u001b[0m \u001b[1;33m=\u001b[0m \u001b[0mfile\u001b[0m\u001b[1;33m.\u001b[0m\u001b[0msort_values\u001b[0m\u001b[1;33m(\u001b[0m\u001b[1;34m\"fav\"\u001b[0m\u001b[1;33m,\u001b[0m \u001b[0mascending\u001b[0m\u001b[1;33m=\u001b[0m\u001b[1;32mFalse\u001b[0m\u001b[1;33m)\u001b[0m\u001b[1;33m\u001b[0m\u001b[1;33m\u001b[0m\u001b[0m\n\u001b[0;32m      2\u001b[0m \u001b[0mnew_srt\u001b[0m\u001b[1;33m.\u001b[0m\u001b[0miloc\u001b[0m\u001b[1;33m[\u001b[0m\u001b[1;33m:\u001b[0m\u001b[1;36m10\u001b[0m\u001b[1;33m]\u001b[0m\u001b[1;33m\u001b[0m\u001b[1;33m\u001b[0m\u001b[0m\n\u001b[1;32m----> 3\u001b[1;33m \u001b[0msns\u001b[0m\u001b[1;33m.\u001b[0m\u001b[0mcountplot\u001b[0m\u001b[1;33m(\u001b[0m\u001b[0mx\u001b[0m\u001b[1;33m=\u001b[0m\u001b[1;34m'fav'\u001b[0m\u001b[1;33m,\u001b[0m \u001b[0my\u001b[0m\u001b[1;33m=\u001b[0m\u001b[1;34m'date'\u001b[0m\u001b[1;33m,\u001b[0m \u001b[0mdata\u001b[0m\u001b[1;33m=\u001b[0m\u001b[0mnew_srt\u001b[0m\u001b[1;33m)\u001b[0m\u001b[1;33m\u001b[0m\u001b[1;33m\u001b[0m\u001b[0m\n\u001b[0m",
      "\u001b[1;32m~\\anaconda3\\lib\\site-packages\\seaborn\\_decorators.py\u001b[0m in \u001b[0;36minner_f\u001b[1;34m(*args, **kwargs)\u001b[0m\n\u001b[0;32m     44\u001b[0m             )\n\u001b[0;32m     45\u001b[0m         \u001b[0mkwargs\u001b[0m\u001b[1;33m.\u001b[0m\u001b[0mupdate\u001b[0m\u001b[1;33m(\u001b[0m\u001b[1;33m{\u001b[0m\u001b[0mk\u001b[0m\u001b[1;33m:\u001b[0m \u001b[0marg\u001b[0m \u001b[1;32mfor\u001b[0m \u001b[0mk\u001b[0m\u001b[1;33m,\u001b[0m \u001b[0marg\u001b[0m \u001b[1;32min\u001b[0m \u001b[0mzip\u001b[0m\u001b[1;33m(\u001b[0m\u001b[0msig\u001b[0m\u001b[1;33m.\u001b[0m\u001b[0mparameters\u001b[0m\u001b[1;33m,\u001b[0m \u001b[0margs\u001b[0m\u001b[1;33m)\u001b[0m\u001b[1;33m}\u001b[0m\u001b[1;33m)\u001b[0m\u001b[1;33m\u001b[0m\u001b[1;33m\u001b[0m\u001b[0m\n\u001b[1;32m---> 46\u001b[1;33m         \u001b[1;32mreturn\u001b[0m \u001b[0mf\u001b[0m\u001b[1;33m(\u001b[0m\u001b[1;33m**\u001b[0m\u001b[0mkwargs\u001b[0m\u001b[1;33m)\u001b[0m\u001b[1;33m\u001b[0m\u001b[1;33m\u001b[0m\u001b[0m\n\u001b[0m\u001b[0;32m     47\u001b[0m     \u001b[1;32mreturn\u001b[0m \u001b[0minner_f\u001b[0m\u001b[1;33m\u001b[0m\u001b[1;33m\u001b[0m\u001b[0m\n\u001b[0;32m     48\u001b[0m \u001b[1;33m\u001b[0m\u001b[0m\n",
      "\u001b[1;32m~\\anaconda3\\lib\\site-packages\\seaborn\\categorical.py\u001b[0m in \u001b[0;36mcountplot\u001b[1;34m(x, y, hue, data, order, hue_order, orient, color, palette, saturation, dodge, ax, **kwargs)\u001b[0m\n\u001b[0;32m   3594\u001b[0m         \u001b[0my\u001b[0m \u001b[1;33m=\u001b[0m \u001b[0mx\u001b[0m\u001b[1;33m\u001b[0m\u001b[1;33m\u001b[0m\u001b[0m\n\u001b[0;32m   3595\u001b[0m     \u001b[1;32melif\u001b[0m \u001b[0mx\u001b[0m \u001b[1;32mis\u001b[0m \u001b[1;32mnot\u001b[0m \u001b[1;32mNone\u001b[0m \u001b[1;32mand\u001b[0m \u001b[0my\u001b[0m \u001b[1;32mis\u001b[0m \u001b[1;32mnot\u001b[0m \u001b[1;32mNone\u001b[0m\u001b[1;33m:\u001b[0m\u001b[1;33m\u001b[0m\u001b[1;33m\u001b[0m\u001b[0m\n\u001b[1;32m-> 3596\u001b[1;33m         \u001b[1;32mraise\u001b[0m \u001b[0mValueError\u001b[0m\u001b[1;33m(\u001b[0m\u001b[1;34m\"Cannot pass values for both `x` and `y`\"\u001b[0m\u001b[1;33m)\u001b[0m\u001b[1;33m\u001b[0m\u001b[1;33m\u001b[0m\u001b[0m\n\u001b[0m\u001b[0;32m   3597\u001b[0m \u001b[1;33m\u001b[0m\u001b[0m\n\u001b[0;32m   3598\u001b[0m     plotter = _CountPlotter(\n",
      "\u001b[1;31mValueError\u001b[0m: Cannot pass values for both `x` and `y`"
     ]
    }
   ],
   "source": [
    "new_srt = file.sort_values(\"fav\", ascending=False)\n",
    "new_srt.iloc[:10]\n",
    "sns.countplot(x='fav', y='date', data=new_srt)"
   ]
  },
  {
   "cell_type": "markdown",
   "id": "4e4c7392",
   "metadata": {},
   "source": [
    "# Tweets with > 100 Likes"
   ]
  },
  {
   "cell_type": "code",
   "execution_count": null,
   "id": "abf69ba3",
   "metadata": {},
   "outputs": [],
   "source": [
    "Tweets_g_100 = new_srt[new_srt[\"fav\"] > 100]\n",
    "Tweets_g_100"
   ]
  },
  {
   "cell_type": "markdown",
   "id": "412b6f1a",
   "metadata": {},
   "source": [
    "<h1>Mode, Median and Max</h1>"
   ]
  },
  {
   "cell_type": "code",
   "execution_count": null,
   "id": "9a802d3f",
   "metadata": {},
   "outputs": [],
   "source": [
    "tweets_fav.mean()"
   ]
  },
  {
   "cell_type": "code",
   "execution_count": null,
   "id": "f57c0e51",
   "metadata": {},
   "outputs": [],
   "source": [
    "tweets_fav.median()"
   ]
  },
  {
   "cell_type": "code",
   "execution_count": null,
   "id": "da53b97a",
   "metadata": {},
   "outputs": [],
   "source": [
    "tweets_fav.max()"
   ]
  },
  {
   "cell_type": "markdown",
   "id": "d2111563",
   "metadata": {},
   "source": [
    "# Most tweets by year"
   ]
  },
  {
   "cell_type": "code",
   "execution_count": null,
   "id": "26b827ea",
   "metadata": {},
   "outputs": [],
   "source": [
    "sns.countplot(y=file['year'])"
   ]
  },
  {
   "cell_type": "markdown",
   "id": "4d411e12",
   "metadata": {},
   "source": [
    "# Most tweets by year in Percentage\n"
   ]
  },
  {
   "cell_type": "code",
   "execution_count": null,
   "id": "c80e7f36",
   "metadata": {},
   "outputs": [],
   "source": [
    "tweetsPerYear = file['year'].value_counts(normalize=True)\n",
    "tweetsPerYear.plot(kind=\"barh\")"
   ]
  },
  {
   "cell_type": "code",
   "execution_count": null,
   "id": "75bfb566",
   "metadata": {},
   "outputs": [],
   "source": [
    "file['year'].value_counts().mean()"
   ]
  },
  {
   "cell_type": "markdown",
   "id": "38752d0b",
   "metadata": {},
   "source": [
    "# Total Number of Favorites So Far..."
   ]
  },
  {
   "cell_type": "code",
   "execution_count": null,
   "id": "005048eb",
   "metadata": {},
   "outputs": [],
   "source": [
    "tweets_fav.sum()"
   ]
  },
  {
   "cell_type": "markdown",
   "id": "f7752990",
   "metadata": {},
   "source": [
    "# Total # of Tweets so far... "
   ]
  },
  {
   "cell_type": "code",
   "execution_count": 4,
   "id": "8978d6f7",
   "metadata": {},
   "outputs": [
    {
     "data": {
      "text/plain": [
       "43394"
      ]
     },
     "execution_count": 4,
     "metadata": {},
     "output_type": "execute_result"
    }
   ],
   "source": [
    "len(file)"
   ]
  },
  {
   "cell_type": "markdown",
   "id": "17e07648",
   "metadata": {},
   "source": [
    "# Tweets By Day\n"
   ]
  },
  {
   "cell_type": "code",
   "execution_count": 5,
   "id": "2f4ce425",
   "metadata": {},
   "outputs": [
    {
     "data": {
      "text/plain": [
       "<AxesSubplot:>"
      ]
     },
     "execution_count": 5,
     "metadata": {},
     "output_type": "execute_result"
    },
    {
     "data": {
      "image/png": "[encoded data removed]",
      "text/plain": [
       "<Figure size 640x480 with 1 Axes>"
      ]
     },
     "metadata": {},
     "output_type": "display_data"
    }
   ],
   "source": [
    "t_by_day = file['day_name'].value_counts(ascending=True)\n",
    "t_by_day.plot(kind=\"bar\")"
   ]
  },
  {
   "cell_type": "code",
   "execution_count": 6,
   "id": "7d88d842",
   "metadata": {},
   "outputs": [
    {
     "data": {
      "text/plain": [
       "Saturday     5689\n",
       "Wednesday    5924\n",
       "Tuesday      6182\n",
       "Monday       6281\n",
       "Thursday     6314\n",
       "Name: day_name, dtype: int64"
      ]
     },
     "execution_count": 6,
     "metadata": {},
     "output_type": "execute_result"
    }
   ],
   "source": [
    "t_by_day.head()"
   ]
  },
  {
   "cell_type": "markdown",
   "id": "937b17d3",
   "metadata": {},
   "source": [
    "# Total # of Rts received so far.. "
   ]
  },
  {
   "cell_type": "code",
   "execution_count": 7,
   "id": "cbeee929",
   "metadata": {},
   "outputs": [
    {
     "data": {
      "text/plain": [
       "10967"
      ]
     },
     "execution_count": 7,
     "metadata": {},
     "output_type": "execute_result"
    }
   ],
   "source": [
    "file['rt_count'].sum()"
   ]
  },
  {
   "cell_type": "markdown",
   "id": "bd8e4aa0",
   "metadata": {},
   "source": [
    "# Top 10 most RT tweets "
   ]
  },
  {
   "cell_type": "code",
   "execution_count": 8,
   "id": "74fc6654",
   "metadata": {},
   "outputs": [
    {
     "data": {
      "text/html": [
       "<div>\n",
       "<style scoped>\n",
       "    .dataframe tbody tr th:only-of-type {\n",
       "        vertical-align: middle;\n",
       "    }\n",
       "\n",
       "    .dataframe tbody tr th {\n",
       "        vertical-align: top;\n",
       "    }\n",
       "\n",
       "    .dataframe thead th {\n",
       "        text-align: right;\n",
       "    }\n",
       "</style>\n",
       "<table border=\"1\" class=\"dataframe\">\n",
       "  <thead>\n",
       "    <tr style=\"text-align: right;\">\n",
       "      <th></th>\n",
       "      <th>fav</th>\n",
       "      <th>rt_count</th>\n",
       "      <th>date</th>\n",
       "      <th>id</th>\n",
       "      <th>year</th>\n",
       "      <th>month</th>\n",
       "      <th>day</th>\n",
       "      <th>hour</th>\n",
       "      <th>day_week</th>\n",
       "      <th>day_name</th>\n",
       "    </tr>\n",
       "  </thead>\n",
       "  <tbody>\n",
       "    <tr>\n",
       "      <th>23579</th>\n",
       "      <td>980</td>\n",
       "      <td>301</td>\n",
       "      <td>2022-07-22 15:47:45+00:00</td>\n",
       "      <td>1550507902833774592</td>\n",
       "      <td>2022</td>\n",
       "      <td>7</td>\n",
       "      <td>22</td>\n",
       "      <td>15</td>\n",
       "      <td>4</td>\n",
       "      <td>Friday</td>\n",
       "    </tr>\n",
       "    <tr>\n",
       "      <th>20064</th>\n",
       "      <td>189</td>\n",
       "      <td>121</td>\n",
       "      <td>2018-05-10 16:37:53+00:00</td>\n",
       "      <td>994617532731547648</td>\n",
       "      <td>2018</td>\n",
       "      <td>5</td>\n",
       "      <td>10</td>\n",
       "      <td>16</td>\n",
       "      <td>3</td>\n",
       "      <td>Thursday</td>\n",
       "    </tr>\n",
       "    <tr>\n",
       "      <th>20069</th>\n",
       "      <td>178</td>\n",
       "      <td>98</td>\n",
       "      <td>2018-05-10 16:18:57+00:00</td>\n",
       "      <td>994612769461858304</td>\n",
       "      <td>2018</td>\n",
       "      <td>5</td>\n",
       "      <td>10</td>\n",
       "      <td>16</td>\n",
       "      <td>3</td>\n",
       "      <td>Thursday</td>\n",
       "    </tr>\n",
       "    <tr>\n",
       "      <th>42293</th>\n",
       "      <td>131</td>\n",
       "      <td>98</td>\n",
       "      <td>2020-08-30 17:07:40+00:00</td>\n",
       "      <td>1300117998011854849</td>\n",
       "      <td>2020</td>\n",
       "      <td>8</td>\n",
       "      <td>30</td>\n",
       "      <td>17</td>\n",
       "      <td>6</td>\n",
       "      <td>Sunday</td>\n",
       "    </tr>\n",
       "    <tr>\n",
       "      <th>27960</th>\n",
       "      <td>317</td>\n",
       "      <td>67</td>\n",
       "      <td>2023-01-14 11:33:33+00:00</td>\n",
       "      <td>1614224193381433344</td>\n",
       "      <td>2023</td>\n",
       "      <td>1</td>\n",
       "      <td>14</td>\n",
       "      <td>11</td>\n",
       "      <td>5</td>\n",
       "      <td>Saturday</td>\n",
       "    </tr>\n",
       "    <tr>\n",
       "      <th>7126</th>\n",
       "      <td>99</td>\n",
       "      <td>66</td>\n",
       "      <td>2022-09-25 08:39:27+00:00</td>\n",
       "      <td>1573955326919032833</td>\n",
       "      <td>2022</td>\n",
       "      <td>9</td>\n",
       "      <td>25</td>\n",
       "      <td>8</td>\n",
       "      <td>6</td>\n",
       "      <td>Sunday</td>\n",
       "    </tr>\n",
       "    <tr>\n",
       "      <th>15338</th>\n",
       "      <td>233</td>\n",
       "      <td>64</td>\n",
       "      <td>2022-08-27 17:27:32+00:00</td>\n",
       "      <td>1563578975074799616</td>\n",
       "      <td>2022</td>\n",
       "      <td>8</td>\n",
       "      <td>27</td>\n",
       "      <td>17</td>\n",
       "      <td>5</td>\n",
       "      <td>Saturday</td>\n",
       "    </tr>\n",
       "    <tr>\n",
       "      <th>7744</th>\n",
       "      <td>73</td>\n",
       "      <td>61</td>\n",
       "      <td>2022-09-22 09:38:12+00:00</td>\n",
       "      <td>1572882947681964032</td>\n",
       "      <td>2022</td>\n",
       "      <td>9</td>\n",
       "      <td>22</td>\n",
       "      <td>9</td>\n",
       "      <td>3</td>\n",
       "      <td>Thursday</td>\n",
       "    </tr>\n",
       "    <tr>\n",
       "      <th>8804</th>\n",
       "      <td>130</td>\n",
       "      <td>61</td>\n",
       "      <td>2022-09-17 18:19:38+00:00</td>\n",
       "      <td>1571202233471045632</td>\n",
       "      <td>2022</td>\n",
       "      <td>9</td>\n",
       "      <td>17</td>\n",
       "      <td>18</td>\n",
       "      <td>5</td>\n",
       "      <td>Saturday</td>\n",
       "    </tr>\n",
       "    <tr>\n",
       "      <th>30040</th>\n",
       "      <td>177</td>\n",
       "      <td>59</td>\n",
       "      <td>2022-01-21 19:13:52+00:00</td>\n",
       "      <td>1484605183334174726</td>\n",
       "      <td>2022</td>\n",
       "      <td>1</td>\n",
       "      <td>21</td>\n",
       "      <td>19</td>\n",
       "      <td>4</td>\n",
       "      <td>Friday</td>\n",
       "    </tr>\n",
       "  </tbody>\n",
       "</table>\n",
       "</div>"
      ],
      "text/plain": [
       "       fav  rt_count                       date                   id  year  \\\n",
       "23579  980       301  2022-07-22 15:47:45+00:00  1550507902833774592  2022   \n",
       "20064  189       121  2018-05-10 16:37:53+00:00   994617532731547648  2018   \n",
       "20069  178        98  2018-05-10 16:18:57+00:00   994612769461858304  2018   \n",
       "42293  131        98  2020-08-30 17:07:40+00:00  1300117998011854849  2020   \n",
       "27960  317        67  2023-01-14 11:33:33+00:00  1614224193381433344  2023   \n",
       "7126    99        66  2022-09-25 08:39:27+00:00  1573955326919032833  2022   \n",
       "15338  233        64  2022-08-27 17:27:32+00:00  1563578975074799616  2022   \n",
       "7744    73        61  2022-09-22 09:38:12+00:00  1572882947681964032  2022   \n",
       "8804   130        61  2022-09-17 18:19:38+00:00  1571202233471045632  2022   \n",
       "30040  177        59  2022-01-21 19:13:52+00:00  1484605183334174726  2022   \n",
       "\n",
       "       month  day  hour  day_week  day_name  \n",
       "23579      7   22    15         4    Friday  \n",
       "20064      5   10    16         3  Thursday  \n",
       "20069      5   10    16         3  Thursday  \n",
       "42293      8   30    17         6    Sunday  \n",
       "27960      1   14    11         5  Saturday  \n",
       "7126       9   25     8         6    Sunday  \n",
       "15338      8   27    17         5  Saturday  \n",
       "7744       9   22     9         3  Thursday  \n",
       "8804       9   17    18         5  Saturday  \n",
       "30040      1   21    19         4    Friday  "
      ]
     },
     "execution_count": 8,
     "metadata": {},
     "output_type": "execute_result"
    }
   ],
   "source": [
    "first10rts = file.sort_values(\"rt_count\", ascending=False)\n",
    "first10rts = first10rts.iloc[:10]\n",
    "first10rts\n"
   ]
  },
  {
   "cell_type": "code",
   "execution_count": null,
   "id": "a8b0d8ea",
   "metadata": {},
   "outputs": [],
   "source": []
  },
  {
   "cell_type": "code",
   "execution_count": null,
   "id": "b9a5c778",
   "metadata": {},
   "outputs": [],
   "source": []
  },
  {
   "cell_type": "code",
   "execution_count": null,
   "id": "dc48d896",
   "metadata": {},
   "outputs": [],
   "source": []
  },
  {
   "cell_type": "code",
   "execution_count": null,
   "id": "9f03618b",
   "metadata": {},
   "outputs": [],
   "source": []
  },
  {
   "cell_type": "code",
   "execution_count": null,
   "id": "badb1209",
   "metadata": {},
   "outputs": [],
   "source": []
  },
  {
   "cell_type": "code",
   "execution_count": null,
   "id": "a7bf35d9",
   "metadata": {},
   "outputs": [],
   "source": []
  },
  {
   "cell_type": "code",
   "execution_count": null,
   "id": "fa1257c0",
   "metadata": {},
   "outputs": [],
   "source": []
  },
  {
   "cell_type": "code",
   "execution_count": null,
   "id": "6a2c8d66",
   "metadata": {},
   "outputs": [],
   "source": []
  },
  {
   "cell_type": "code",
   "execution_count": null,
   "id": "defdb9a4",
   "metadata": {},
   "outputs": [],
   "source": []
  },
  {
   "cell_type": "code",
   "execution_count": null,
   "id": "5bb4529f",
   "metadata": {},
   "outputs": [],
   "source": []
  },
  {
   "cell_type": "code",
   "execution_count": null,
   "id": "667e00d2",
   "metadata": {},
   "outputs": [],
   "source": []
  },
  {
   "cell_type": "code",
   "execution_count": null,
   "id": "8682fef7",
   "metadata": {},
   "outputs": [],
   "source": []
  },
  {
   "cell_type": "code",
   "execution_count": null,
   "id": "6de38347",
   "metadata": {},
   "outputs": [],
   "source": []
  }
 ],
 "metadata": {
  "kernelspec": {
   "display_name": "Python 3 (ipykernel)",
   "language": "python",
   "name": "python3"
  },
  "language_info": {
   "codemirror_mode": {
    "name": "ipython",
    "version": 3
   },
   "file_extension": ".py",
   "mimetype": "text/x-python",
   "name": "python",
   "nbconvert_exporter": "python",
   "pygments_lexer": "ipython3",
   "version": "3.9.13"
  }
 },
 "nbformat": 4,
 "nbformat_minor": 5
}
